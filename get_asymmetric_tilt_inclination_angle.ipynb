{
 "cells": [
  {
   "cell_type": "code",
   "execution_count": null,
   "id": "0eda986d",
   "metadata": {},
   "outputs": [],
   "source": []
  },
  {
   "cell_type": "code",
   "execution_count": null,
   "id": "b03c987c",
   "metadata": {},
   "outputs": [],
   "source": []
  },
  {
   "cell_type": "code",
   "execution_count": 6,
   "id": "c93a3633",
   "metadata": {},
   "outputs": [
    {
     "name": "stdout",
     "output_type": "stream",
     "text": [
      "1 1 1\n",
      "4 4 5\n"
     ]
    }
   ],
   "source": [
    "import numpy as np\n",
    "\n",
    "a = list(map(int, input().split()))\n",
    "b = list(map(int, input().split()))\n",
    "A = np.array(a)\n",
    "B = np.array(b)"
   ]
  },
  {
   "cell_type": "code",
   "execution_count": 41,
   "id": "c057e507",
   "metadata": {},
   "outputs": [],
   "source": [
    " def get_theta(B):\n",
    "    A = np.array([1,1,-1]) # CSLの基底の一つ\n",
    "    B = np.array(B) # 粒界法線方向\n",
    "    x = np.inner(A,B)\n",
    "    s = np.linalg.norm(A)\n",
    "    t = np.linalg.norm(B)\n",
    "    if np.round(x/(s*t),10)!=1:\n",
    "        theta = np.arccos(x/(s*t))/np.pi*180\n",
    "        print(theta)\n",
    "    else:\n",
    "        pass"
   ]
  },
  {
   "cell_type": "code",
   "execution_count": 42,
   "id": "f5bb6077",
   "metadata": {},
   "outputs": [
    {
     "data": {
      "text/plain": [
       "3"
      ]
     },
     "execution_count": 42,
     "metadata": {},
     "output_type": "execute_result"
    }
   ],
   "source": [
    "np.inner([1,1,-1],[1,1,-1])"
   ]
  },
  {
   "cell_type": "code",
   "execution_count": 13,
   "id": "13cebe52",
   "metadata": {},
   "outputs": [
    {
     "name": "stdout",
     "output_type": "stream",
     "text": [
      "6.208544626185769\n"
     ]
    }
   ],
   "source": [
    "get_theta([14,14,-11])"
   ]
  },
  {
   "cell_type": "code",
   "execution_count": 15,
   "id": "b34e6dd9",
   "metadata": {},
   "outputs": [
    {
     "name": "stdout",
     "output_type": "stream",
     "text": [
      "10.024987862075765\n"
     ]
    }
   ],
   "source": [
    "get_theta([3,3,-2])"
   ]
  },
  {
   "cell_type": "code",
   "execution_count": 16,
   "id": "132ce4be",
   "metadata": {},
   "outputs": [
    {
     "name": "stdout",
     "output_type": "stream",
     "text": [
      "13.262676008304835\n"
     ]
    }
   ],
   "source": [
    "get_theta([7,7,-4])"
   ]
  },
  {
   "cell_type": "code",
   "execution_count": 18,
   "id": "120065b3",
   "metadata": {},
   "outputs": [
    {
     "name": "stdout",
     "output_type": "stream",
     "text": [
      "15.793169048263968\n"
     ]
    }
   ],
   "source": [
    "get_theta([2,2,-1])"
   ]
  },
  {
   "cell_type": "markdown",
   "id": "896fda5d",
   "metadata": {},
   "source": [
    "CSL基底の方向で等価な方向についてすべて\\\n",
    "lattice1での表現で表す\\\n",
    "つまり、ここで登場しているベクトルはすべて\\\n",
    "interface generatorでいうlattice1での表示(representation)になっている"
   ]
  },
  {
   "cell_type": "code",
   "execution_count": 45,
   "id": "6d279eb0",
   "metadata": {},
   "outputs": [],
   "source": [
    "hkl_lattice1_list = [\n",
    "    [1,1,-1],\n",
    "    [14,14,-11],\n",
    "    [3,3,-2],\n",
    "    [7,7,-4],\n",
    "    [2,2,-1],\n",
    "    [5,5,-2],\n",
    "    [3,3,-1],\n",
    "    [4,4,-1],\n",
    "    [7,7,-1],\n",
    "    [1,1,0],\n",
    "    [8,8,1],\n",
    "    [5,5,1],\n",
    "    [7,7,2],\n",
    "    [3,3,1],\n",
    "    [2,2,1],\n",
    "    [3,3,2],\n",
    "    [7,7,5],\n",
    "    [5,5,4],\n",
    "    [8,8,7],\n",
    "    [1,1,1],\n",
    "    [7,7,8],\n",
    "    [4,4,5],\n",
    "    [5,5,7],\n",
    "    [2,2,3],\n",
    "    [1,1,2],\n",
    "]"
   ]
  },
  {
   "cell_type": "code",
   "execution_count": 46,
   "id": "3051aaf1",
   "metadata": {},
   "outputs": [
    {
     "name": "stdout",
     "output_type": "stream",
     "text": [
      "6.208544626185769\n",
      "10.024987862075765\n",
      "13.262676008304835\n",
      "15.793169048263968\n",
      "19.47122063449069\n",
      "22.001713674449817\n",
      "25.239401820678914\n",
      "29.49620849656643\n",
      "35.26438968275467\n",
      "40.31554221077258\n",
      "43.31385665828304\n",
      "46.68614334171695\n",
      "48.527065691059505\n",
      "54.735610317245346\n",
      "60.50379150343357\n",
      "62.06164727039765\n",
      "64.7605981793211\n",
      "67.01023222639114\n",
      "70.52877936550931\n",
      "74.20683095173604\n",
      "76.73732399169515\n",
      "79.97501213792425\n",
      "81.95053302447161\n",
      "90.0\n"
     ]
    }
   ],
   "source": [
    "for hkl in hkl_lattice1_list:\n",
    "    get_theta(hkl)"
   ]
  },
  {
   "cell_type": "code",
   "execution_count": null,
   "id": "6f08f563",
   "metadata": {},
   "outputs": [],
   "source": []
  },
  {
   "cell_type": "code",
   "execution_count": 7,
   "id": "05e3f91c",
   "metadata": {},
   "outputs": [
    {
     "name": "stdout",
     "output_type": "stream",
     "text": [
      "13\n"
     ]
    }
   ],
   "source": [
    "\n",
    "print(x)"
   ]
  },
  {
   "cell_type": "code",
   "execution_count": 8,
   "id": "acd02a11",
   "metadata": {},
   "outputs": [
    {
     "name": "stdout",
     "output_type": "stream",
     "text": [
      "1.7320508075688772\n",
      "7.54983443527075\n"
     ]
    }
   ],
   "source": [
    "\n",
    "print(s)\n",
    "print(t)"
   ]
  },
  {
   "cell_type": "code",
   "execution_count": 9,
   "id": "cc100391",
   "metadata": {},
   "outputs": [
    {
     "name": "stdout",
     "output_type": "stream",
     "text": [
      "6.208544626185769\n"
     ]
    }
   ],
   "source": [
    "\n",
    "\n",
    "print(theta)"
   ]
  },
  {
   "cell_type": "code",
   "execution_count": null,
   "id": "90940dc8",
   "metadata": {},
   "outputs": [],
   "source": []
  },
  {
   "cell_type": "code",
   "execution_count": null,
   "id": "9ef709fe",
   "metadata": {},
   "outputs": [],
   "source": []
  },
  {
   "cell_type": "code",
   "execution_count": null,
   "id": "fe64f0a0",
   "metadata": {},
   "outputs": [],
   "source": []
  }
 ],
 "metadata": {
  "kernelspec": {
   "display_name": "Python 3 (ipykernel)",
   "language": "python",
   "name": "python3"
  },
  "language_info": {
   "codemirror_mode": {
    "name": "ipython",
    "version": 3
   },
   "file_extension": ".py",
   "mimetype": "text/x-python",
   "name": "python",
   "nbconvert_exporter": "python",
   "pygments_lexer": "ipython3",
   "version": "3.8.3"
  }
 },
 "nbformat": 4,
 "nbformat_minor": 5
}
